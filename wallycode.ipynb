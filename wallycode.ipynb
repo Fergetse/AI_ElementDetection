{
 "cells": [
  {
   "cell_type": "code",
   "execution_count": 1,
   "id": "9cc4907a-1eb3-4313-a9d9-7908cdc2401c",
   "metadata": {},
   "outputs": [
    {
     "name": "stdout",
     "output_type": "stream",
     "text": [
      "Clasificador cargado correctamente.\n"
     ]
    }
   ],
   "source": [
    "import numpy as np\n",
    "import cv2 as cv\n",
    "import math\n",
    "\n",
    "# Cargar el clasificador entrenado\n",
    "#cascade_fin wallys = wally.detectMultiScale(gray,1.35,3), prueba y n2\n",
    "wally = cv.CascadeClassifier(\"cascade_fin.xml\")\n",
    "\n",
    "if wally.empty():\n",
    "    print(\"Error: no se pudo cargar el clasificador.\")\n",
    "else:\n",
    "    print(\"Clasificador cargado correctamente.\")\n"
   ]
  },
  {
   "cell_type": "code",
   "execution_count": 11,
   "id": "da279ce5",
   "metadata": {},
   "outputs": [
    {
     "name": "stdout",
     "output_type": "stream",
     "text": [
      "Imagen cargada correctamente.\n"
     ]
    }
   ],
   "source": [
    "####### IMAGEN EN MULTITUD #########\n",
    "\n",
    "frame = cv.imread(\"n7.jpg\")\n",
    "if frame is None:\n",
    "    print(\"Error: no se pudo cargar la imagen.\")\n",
    "else:\n",
    "    print(\"Imagen cargada correctamente.\")\n",
    "\n",
    "gray = cv.cvtColor(frame, cv.COLOR_BGR2GRAY)\n",
    "wallys = wally.detectMultiScale(gray,1.04,50)\n",
    "\n",
    "for (x, y, w, h) in wallys:\n",
    "    frame = cv.rectangle(frame, (x, y), (x + w, y + h), (0, 255, 0), 2)\n",
    "\n",
    "# Mostrar la imagen con los rectángulos\n",
    "cv.imshow('wally', frame)\n",
    "cv.waitKey(0)\n",
    "cv.destroyAllWindows()\n"
   ]
  },
  {
   "cell_type": "code",
   "execution_count": 4,
   "id": "b712ba0f-51ab-492e-aec7-b3bd50274b19",
   "metadata": {},
   "outputs": [
    {
     "name": "stdout",
     "output_type": "stream",
     "text": [
      "Imagen cargada correctamente.\n"
     ]
    }
   ],
   "source": [
    "\n",
    "frame = cv.imread(\"n8.jpg\")\n",
    "if frame is None:\n",
    "    print(\"Error: no se pudo cargar la imagen.\")\n",
    "else:\n",
    "    print(\"Imagen cargada correctamente.\")\n",
    "\n",
    "gray = cv.cvtColor(frame, cv.COLOR_BGR2GRAY)\n",
    "wallys = wally.detectMultiScale(gray,1.5,5)\n",
    "\n",
    "for (x, y, w, h) in wallys:\n",
    "    frame = cv.rectangle(frame, (x, y), (x + w, y + h), (0, 255, 0), 2)\n",
    "\n",
    "# Mostrar la imagen con los rectángulos\n",
    "cv.imshow('wally', frame)\n",
    "cv.waitKey(0)\n",
    "cv.destroyAllWindows()\n"
   ]
  },
  {
   "cell_type": "code",
   "execution_count": 3,
   "id": "517ac186-b8da-43f5-b2e4-3ce135e12216",
   "metadata": {},
   "outputs": [
    {
     "name": "stdout",
     "output_type": "stream",
     "text": [
      "Imagen cargada correctamente.\n"
     ]
    }
   ],
   "source": [
    "#### IMAGEN EN PLAYA #######\n",
    "frame = cv.imread(\"n8.jpg\") \n",
    "if frame is None:\n",
    "    print(\"Error: no se pudo cargar la imagen.\")\n",
    "else:\n",
    "    print(\"Imagen cargada correctamente.\")\n",
    "\n",
    "gray = cv.cvtColor(frame, cv.COLOR_BGR2GRAY)\n",
    "wallys = wally.detectMultiScale(gray,1.095,9)\n",
    "\n",
    "for (x, y, w, h) in wallys:\n",
    "    frame = cv.rectangle(frame, (x, y), (x + w, y + h), (0, 255, 0), 2)\n",
    "\n",
    "# Mostrar la imagen con los rectángulos\n",
    "cv.imshow('wally', frame)\n",
    "cv.waitKey(0)\n",
    "cv.destroyAllWindows()\n",
    "\n"
   ]
  }
 ],
 "metadata": {
  "kernelspec": {
   "display_name": "Python 3",
   "language": "python",
   "name": "python3"
  },
  "language_info": {
   "codemirror_mode": {
    "name": "ipython",
    "version": 3
   },
   "file_extension": ".py",
   "mimetype": "text/x-python",
   "name": "python",
   "nbconvert_exporter": "python",
   "pygments_lexer": "ipython3",
   "version": "3.12.0"
  }
 },
 "nbformat": 4,
 "nbformat_minor": 5
}
